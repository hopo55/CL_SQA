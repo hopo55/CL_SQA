{
 "cells": [
  {
   "cell_type": "code",
   "execution_count": 2,
   "metadata": {},
   "outputs": [],
   "source": [
    "import os\n",
    "import numpy as np\n",
    "\n",
    "from sqa_gen.data_extraction import extract_data_from_file"
   ]
  },
  {
   "cell_type": "code",
   "execution_count": 3,
   "metadata": {},
   "outputs": [],
   "source": [
    "data_folder = 'dataset/opportunity'\n",
    "file_list = [ i for i in os.listdir(data_folder) if '.dat' in i]"
   ]
  },
  {
   "cell_type": "code",
   "execution_count": 4,
   "metadata": {},
   "outputs": [
    {
     "data": {
      "text/plain": [
       "['S3-ADL4.dat',\n",
       " 'S3-ADL1.dat',\n",
       " 'S1-ADL5.dat',\n",
       " 'S1-ADL4.dat',\n",
       " 'S4-ADL5.dat',\n",
       " 'S2-ADL4.dat',\n",
       " 'S3-Drill.dat',\n",
       " 'S2-ADL1.dat',\n",
       " 'S1-ADL1.dat',\n",
       " 'S4-ADL2.dat',\n",
       " 'S2-ADL2.dat',\n",
       " 'S4-ADL3.dat',\n",
       " 'S2-ADL3.dat',\n",
       " 'S3-ADL2.dat',\n",
       " 'S1-ADL2.dat',\n",
       " 'S4-ADL4.dat',\n",
       " 'S4-Drill.dat',\n",
       " 'S3-ADL5.dat',\n",
       " 'S4-ADL1.dat',\n",
       " 'S3-ADL3.dat',\n",
       " 'S2-Drill.dat',\n",
       " 'S1-ADL3.dat',\n",
       " 'S2-ADL5.dat',\n",
       " 'S1-Drill.dat']"
      ]
     },
     "execution_count": 4,
     "metadata": {},
     "output_type": "execute_result"
    }
   ],
   "source": [
    "file_list"
   ]
  },
  {
   "cell_type": "code",
   "execution_count": 5,
   "metadata": {},
   "outputs": [
    {
     "name": "stdout",
     "output_type": "stream",
     "text": [
      "S3-ADL4.dat\n",
      "S3-ADL1.dat\n",
      "S1-ADL5.dat\n",
      "S1-ADL4.dat\n",
      "S4-ADL5.dat\n",
      "S2-ADL4.dat\n",
      "S3-Drill.dat\n",
      "S2-ADL1.dat\n",
      "S1-ADL1.dat\n",
      "S4-ADL2.dat\n",
      "S2-ADL2.dat\n",
      "S4-ADL3.dat\n",
      "S2-ADL3.dat\n",
      "S3-ADL2.dat\n",
      "S1-ADL2.dat\n",
      "S4-ADL4.dat\n",
      "S4-Drill.dat\n",
      "S3-ADL5.dat\n",
      "S4-ADL1.dat\n",
      "S3-ADL3.dat\n",
      "S2-Drill.dat\n",
      "S1-ADL3.dat\n",
      "S2-ADL5.dat\n",
      "S1-Drill.dat\n"
     ]
    }
   ],
   "source": [
    "label1 = np.zeros([0,1])\n",
    "label2 = np.zeros([0,1])\n",
    "data = np.zeros([0,77])\n",
    "\n",
    "datapath = 'dataset/opportunity'\n",
    "\n",
    "for file_i in file_list:\n",
    "    print(file_i)\n",
    "    label_y, label_list, data_x = extract_data_from_file(file_i, datapath,\n",
    "                                                     plot_option = False, \n",
    "                                                     show_other = False)\n",
    "    label1 = np.concatenate((label1, label_y[0].reshape([-1, 1])), axis = 0)\n",
    "    label2 = np.concatenate((label2, label_y[1].reshape([-1, 1])), axis = 0)\n",
    "\n",
    "    data = np.concatenate((data, data_x), axis = 0)"
   ]
  },
  {
   "cell_type": "code",
   "execution_count": 25,
   "metadata": {},
   "outputs": [
    {
     "name": "stdout",
     "output_type": "stream",
     "text": [
      "=============label_y=============\n",
      "(3, 30048)\n",
      "[array([1, 1, 1, ..., 1, 1, 1]), array([1, 1, 1, ..., 1, 1, 1]), array([1, 1, 1, ..., 1, 1, 1])]\n",
      "=======================================\n",
      "=============label_list=============\n",
      "3\n",
      "18\n",
      "5\n",
      "6\n",
      "[['Other', 'Open Door 1', 'Open Door 2', 'Close Door 1', 'Close Door 2', 'Open Fridge', 'Close Fridge', 'Open Dishwasher', 'Close Dishwasher', 'Open Drawer 1', 'Close Drawer 1', 'Open Drawer 2', 'Close Drawer 2', 'Open Drawer 3', 'Close Drawer 3', 'Clean Table', 'Drink from Cup', 'Toggle Switch'], ['Other', 'Stand', 'Walk', 'Sit', 'Lie'], ['Other', 'Relaxing', 'Coffee time', 'Early morning', 'Cleanup', 'Sandwich time']]\n",
      "=======================================\n",
      "=============data_x=============\n",
      "(30048, 77)\n",
      "=======================================\n"
     ]
    }
   ],
   "source": [
    "label_y, label_list, data_x = extract_data_from_file('S1-ADL5.dat', datapath,\n",
    "                                                     plot_option = False, \n",
    "                                                     show_other = False)\n",
    "\n",
    "print('=============label_y=============')\n",
    "print(np.array(label_y).shape)  # (3, 30048) -> 3: category / 30048: number of data\n",
    "print(label_y)  # [0]: 1~18 / [1]: 1~5 / [2]: 1~6 -> classes\n",
    "print('=======================================')\n",
    "print('=============label_list=============')\n",
    "print(len(label_list))  # category\n",
    "print(len(label_list[0]))   # mid\n",
    "print(len(label_list[1]))   # loc\n",
    "print(len(label_list[2]))   # high\n",
    "print(label_list)   # class name\n",
    "print('=======================================')\n",
    "print('=============data_x=============')\n",
    "print(data_x.shape) # (30048, 77)   # (#data, channel)\n",
    "print('=======================================')"
   ]
  }
 ],
 "metadata": {
  "kernelspec": {
   "display_name": "lab",
   "language": "python",
   "name": "python3"
  },
  "language_info": {
   "codemirror_mode": {
    "name": "ipython",
    "version": 3
   },
   "file_extension": ".py",
   "mimetype": "text/x-python",
   "name": "python",
   "nbconvert_exporter": "python",
   "pygments_lexer": "ipython3",
   "version": "3.10.6"
  }
 },
 "nbformat": 4,
 "nbformat_minor": 2
}
