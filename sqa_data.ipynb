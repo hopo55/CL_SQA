{
 "cells": [
  {
   "cell_type": "markdown",
   "metadata": {},
   "source": [
    "# Generate Questions and Answers via Sensor Data"
   ]
  },
  {
   "cell_type": "markdown",
   "metadata": {},
   "source": [
    "## Settings"
   ]
  },
  {
   "cell_type": "code",
   "execution_count": 13,
   "metadata": {},
   "outputs": [],
   "source": [
    "import os\n",
    "import argparse\n",
    "\n",
    "from sqa_gen.data_extraction import extract_data_from_file"
   ]
  },
  {
   "cell_type": "code",
   "execution_count": 14,
   "metadata": {},
   "outputs": [],
   "source": [
    "parser = argparse.ArgumentParser()\n",
    "# Path\n",
    "parser.add_argument('--datapath', type=str, default='dataset/opportunity')\n",
    "parser.add_argument('--question_file', type=str, default='question_family.json')\n",
    "parser.add_argument('--save_folder', type=str, default='sqa_data')\n",
    "parser.add_argument('--save_model_folder', type=str, default='trained_models/')\n",
    "# SQA settings\n",
    "parser.add_argument('--stride', type=int, default=400)\n",
    "parser.add_argument('--window_size', type=int, default=1500)\n",
    "parser.add_argument('--dim', type=int, default=77)\n",
    "parser.add_argument('--win_len', type=int, default=1)\n",
    "parser.add_argument('--num_class1', type=int, default=18)\n",
    "parser.add_argument('--num_class2', type=int, default=5)\n",
    "parser.add_argument('--feature', type=int, default=64)\n",
    "parser.add_argument('--drop_rate', type=float, default=0.3)\n",
    "parser.add_argument('--epochs', type=int, default=50)\n",
    "parser.add_argument('--batch_size', type=int, default=4096)\n",
    "# General Settings\n",
    "parser.add_argument('--seed', type=int, default=0)\n",
    "parser.add_argument('--device', type=int, default=0)\n",
    "\n",
    "args = parser.parse_args(args=[])"
   ]
  },
  {
   "cell_type": "code",
   "execution_count": 15,
   "metadata": {},
   "outputs": [],
   "source": [
    "_, label_list, _ = extract_data_from_file('S1-ADL5.dat',  args.datapath, plot_option = False, show_other = False)\n",
    "\n",
    "label_list[0][0] = 'Do other activities'\n",
    "label_list[0][1] = 'Open the front Door'\n",
    "label_list[0][2] = 'Open the back Door'\n",
    "label_list[0][3] = 'Close the front Door'\n",
    "label_list[0][4] = 'Close the back Door'\n",
    "label_list[0][5] = 'Open the Fridge'\n",
    "label_list[0][6] = 'Close the Fridge'\n",
    "label_list[0][7] = 'Open the Dishwasher'\n",
    "label_list[0][8] = 'Close the Dishwasher'\n",
    "label_list[0][9] = 'Open the first Drawer'\n",
    "label_list[0][10] = 'Close the first Drawer'\n",
    "label_list[0][11] = 'Open the second Drawer'\n",
    "label_list[0][12] = 'Close the second Drawer'\n",
    "label_list[0][13] = 'Open the third Drawer'\n",
    "label_list[0][14] = 'Close the third Drawer'\n",
    "label_list[0][15] = 'Clean the Table'\n",
    "label_list[0][16] = 'Drink from the Cup'\n",
    "label_list[0][17] = 'Toggle the Switch'\n",
    "\n",
    "file_list = [ i for i in os.listdir(args.datapath) if '.dat' in i]\n",
    "save_file = 's1234_' + str(args.window_size) + '_' + str(args.stride)"
   ]
  },
  {
   "cell_type": "code",
   "execution_count": null,
   "metadata": {},
   "outputs": [],
   "source": []
  }
 ],
 "metadata": {
  "kernelspec": {
   "display_name": "lab",
   "language": "python",
   "name": "python3"
  },
  "language_info": {
   "codemirror_mode": {
    "name": "ipython",
    "version": 3
   },
   "file_extension": ".py",
   "mimetype": "text/x-python",
   "name": "python",
   "nbconvert_exporter": "python",
   "pygments_lexer": "ipython3",
   "version": "3.10.6"
  }
 },
 "nbformat": 4,
 "nbformat_minor": 2
}
